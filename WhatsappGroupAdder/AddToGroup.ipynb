{
 "cells": [
  {
   "cell_type": "markdown",
   "metadata": {},
   "source": [
    "0. Make sure you have saved all the names to be added to the group with a prefix or a keyword (in such a way that searching for that keyword will list only those who are supposed to be added to the group).\n",
    "\n",
    "Pro tip: Use the ContactSaver.py to make vcf files instantly."
   ]
  },
  {
   "cell_type": "markdown",
   "metadata": {},
   "source": [
    "1. Run the below code and scan the QR Code in whatsapp"
   ]
  },
  {
   "cell_type": "code",
   "execution_count": 2,
   "metadata": {},
   "outputs": [],
   "source": [
    "from selenium import webdriver\n",
    "import time\n",
    "\n",
    "driver = webdriver.Chrome()\n",
    "# driver.set_window_position()\n",
    "driver.get('https://web.whatsapp.com')"
   ]
  },
  {
   "cell_type": "markdown",
   "metadata": {},
   "source": [
    "2. Create a new group (or use an existing group) and go to the add participants window.\n",
    "\n",
    "3. Type the prefix in the search bar. Make sure all the names to be added are present.\n",
    "\n",
    "4. Run the code below. This will cycle through the list and select random names. Scroll through the list manually to add more names. If the program stops executing before selecting all the names in the list, run the code segment again."
   ]
  },
  {
   "cell_type": "code",
   "execution_count": null,
   "metadata": {},
   "outputs": [],
   "source": [
    "i=0\n",
    "while True:\n",
    "    item = driver.find_elements_by_xpath(\".//div[@class='lhggkp7q ln8gz9je rx9719la']\")\n",
    "    tick = item[i].find_elements_by_xpath(\".//div[@class='g0rxnol2 cm280p3y ppled2lx m62443ks thr4l2wc cd4l02zd m98q8jdg aickbkrb h0ed51ke dntxsmpk ixn6u0rb s2vc4xk1 o0wkt7aw cpfmwfku eliz2k8b']\")\n",
    "    if len(tick) == 1:\n",
    "        item[i].click()\n",
    "    else:\n",
    "        i=(i+1)%17\n",
    "\n",
    "    # if :\n",
    "    #     item[i].click()"
   ]
  }
 ],
 "metadata": {
  "kernelspec": {
   "display_name": "Python 3.10.4 ('exp')",
   "language": "python",
   "name": "python3"
  },
  "language_info": {
   "codemirror_mode": {
    "name": "ipython",
    "version": 3
   },
   "file_extension": ".py",
   "mimetype": "text/x-python",
   "name": "python",
   "nbconvert_exporter": "python",
   "pygments_lexer": "ipython3",
   "version": "3.10.4"
  },
  "orig_nbformat": 4,
  "vscode": {
   "interpreter": {
    "hash": "a6a4b21289f075f463dbab05b56519fd82c079d5b69468e1696849fa08fbdf89"
   }
  }
 },
 "nbformat": 4,
 "nbformat_minor": 2
}
